{
 "cells": [
  {
   "cell_type": "markdown",
   "metadata": {},
   "source": [
    "# Project 2: Supervised Learning\n",
    "### Building a Student Intervention System"
   ]
  },
  {
   "cell_type": "markdown",
   "metadata": {},
   "source": [
    "## 1. Classification vs Regression\n",
    "\n",
    "Your goal is to identify students who might need early intervention - which type of supervised machine learning problem is this, classification or regression? Why?"
   ]
  },
  {
   "cell_type": "markdown",
   "metadata": {},
   "source": [
    "## 2. Exploring the Data\n",
    "\n",
    "Let's go ahead and read in the student dataset first.\n",
    "\n",
    "_To execute a code cell, click inside it and press **Shift+Enter**._"
   ]
  },
  {
   "cell_type": "code",
   "execution_count": 402,
   "metadata": {
    "collapsed": false
   },
   "outputs": [],
   "source": [
    "# Import libraries\n",
    "import numpy as np\n",
    "import pandas as pd"
   ]
  },
  {
   "cell_type": "code",
   "execution_count": 403,
   "metadata": {
    "collapsed": false
   },
   "outputs": [
    {
     "name": "stdout",
     "output_type": "stream",
     "text": [
      "Student data read successfully!\n",
      "265\n",
      "130\n",
      "265\n"
     ]
    }
   ],
   "source": [
    "# Read student data\n",
    "student_data = pd.read_csv(\"student-data.csv\")\n",
    "print \"Student data read successfully!\"\n",
    "print np.sum(student_data.passed == 'yes')\n",
    "print np.sum(student_data.passed == 'no')\n",
    "print np.count_nonzero(student_data.passed == 'yes')\n",
    "\n",
    "# Note: The last column 'passed' is the target/label, all other are feature columns"
   ]
  },
  {
   "cell_type": "markdown",
   "metadata": {},
   "source": [
    "Now, can you find out the following facts about the dataset?\n",
    "- Total number of students\n",
    "- Number of students who passed\n",
    "- Number of students who failed\n",
    "- Graduation rate of the class (%)\n",
    "- Number of features\n",
    "\n",
    "_Use the code block below to compute these values. Instructions/steps are marked using **TODO**s._"
   ]
  },
  {
   "cell_type": "code",
   "execution_count": 404,
   "metadata": {
    "collapsed": false
   },
   "outputs": [
    {
     "name": "stdout",
     "output_type": "stream",
     "text": [
      "0.670886075949\n",
      "Total number of students: 395\n",
      "Number of students who passed: 265\n",
      "Number of students who failed: 130\n",
      "Number of features: 31\n",
      "Graduation rate of the class: 0.67%\n"
     ]
    }
   ],
   "source": [
    "# TODO: Compute desired values - replace each '?' with an appropriate expression/function call\n",
    "n_students = np.size(student_data, 0)\n",
    "n_features = np.size(student_data, 1)\n",
    "n_passed =np.sum(student_data.passed == 'yes')\n",
    "n_failed =np.sum(student_data.passed == 'no')\n",
    "grad_rate = float(n_passed)/(n_students)\n",
    "print float(n_passed)/ float(n_students)\n",
    "print \"Total number of students: {}\".format(n_students)\n",
    "print \"Number of students who passed: {}\".format(n_passed)\n",
    "print \"Number of students who failed: {}\".format(n_failed)\n",
    "print \"Number of features: {}\".format(n_features)\n",
    "print \"Graduation rate of the class: {:.2f}%\".format(grad_rate)"
   ]
  },
  {
   "cell_type": "markdown",
   "metadata": {},
   "source": [
    "## 3. Preparing the Data\n",
    "In this section, we will prepare the data for modeling, training and testing.\n",
    "\n",
    "### Identify feature and target columns\n",
    "It is often the case that the data you obtain contains non-numeric features. This can be a problem, as most machine learning algorithms expect numeric data to perform computations with.\n",
    "\n",
    "Let's first separate our data into feature and target columns, and see if any features are non-numeric.<br/>\n",
    "**Note**: For this dataset, the last column (`'passed'`) is the target or label we are trying to predict."
   ]
  },
  {
   "cell_type": "code",
   "execution_count": 405,
   "metadata": {
    "collapsed": false
   },
   "outputs": [
    {
     "name": "stdout",
     "output_type": "stream",
     "text": [
      "Feature column(s):-\n",
      "['school', 'sex', 'age', 'address', 'famsize', 'Pstatus', 'Medu', 'Fedu', 'Mjob', 'Fjob', 'reason', 'guardian', 'traveltime', 'studytime', 'failures', 'schoolsup', 'famsup', 'paid', 'activities', 'nursery', 'higher', 'internet', 'romantic', 'famrel', 'freetime', 'goout', 'Dalc', 'Walc', 'health', 'absences']\n",
      "Target column: passed\n",
      "\n",
      "Feature values:-\n",
      "  school sex  age address famsize Pstatus  Medu  Fedu     Mjob      Fjob  \\\n",
      "0     GP   F   18       U     GT3       A     4     4  at_home   teacher   \n",
      "1     GP   F   17       U     GT3       T     1     1  at_home     other   \n",
      "2     GP   F   15       U     LE3       T     1     1  at_home     other   \n",
      "3     GP   F   15       U     GT3       T     4     2   health  services   \n",
      "4     GP   F   16       U     GT3       T     3     3    other     other   \n",
      "\n",
      "    ...    higher internet  romantic  famrel  freetime goout Dalc Walc health  \\\n",
      "0   ...       yes       no        no       4         3     4    1    1      3   \n",
      "1   ...       yes      yes        no       5         3     3    1    1      3   \n",
      "2   ...       yes      yes        no       4         3     2    2    3      3   \n",
      "3   ...       yes      yes       yes       3         2     2    1    1      5   \n",
      "4   ...       yes       no        no       4         3     2    1    2      5   \n",
      "\n",
      "  absences  \n",
      "0        6  \n",
      "1        4  \n",
      "2       10  \n",
      "3        2  \n",
      "4        4  \n",
      "\n",
      "[5 rows x 30 columns]\n"
     ]
    }
   ],
   "source": [
    "# Extract feature (X) and target (y) columns\n",
    "feature_cols = list(student_data.columns[:-1])  # all columns but last are features\n",
    "target_col = student_data.columns[-1]  # last column is the target/label\n",
    "print \"Feature column(s):-\\n{}\".format(feature_cols)\n",
    "print \"Target column: {}\".format(target_col)\n",
    "\n",
    "X_all = student_data[feature_cols]  # feature values for all students\n",
    "y_all = student_data[target_col]  # corresponding targets/labels\n",
    "print \"\\nFeature values:-\"\n",
    "print X_all.head()  # print the first 5 rows"
   ]
  },
  {
   "cell_type": "markdown",
   "metadata": {},
   "source": [
    "### Preprocess feature columns\n",
    "\n",
    "As you can see, there are several non-numeric columns that need to be converted! Many of them are simply `yes`/`no`, e.g. `internet`. These can be reasonably converted into `1`/`0` (binary) values.\n",
    "\n",
    "Other columns, like `Mjob` and `Fjob`, have more than two values, and are known as _categorical variables_. The recommended way to handle such a column is to create as many columns as possible values (e.g. `Fjob_teacher`, `Fjob_other`, `Fjob_services`, etc.), and assign a `1` to one of them and `0` to all others.\n",
    "\n",
    "These generated columns are sometimes called _dummy variables_, and we will use the [`pandas.get_dummies()`](http://pandas.pydata.org/pandas-docs/stable/generated/pandas.get_dummies.html?highlight=get_dummies#pandas.get_dummies) function to perform this transformation."
   ]
  },
  {
   "cell_type": "code",
   "execution_count": 406,
   "metadata": {
    "collapsed": false
   },
   "outputs": [
    {
     "name": "stdout",
     "output_type": "stream",
     "text": [
      "Processed feature columns (48):-\n",
      "['school_GP', 'school_MS', 'sex_F', 'sex_M', 'age', 'address_R', 'address_U', 'famsize_GT3', 'famsize_LE3', 'Pstatus_A', 'Pstatus_T', 'Medu', 'Fedu', 'Mjob_at_home', 'Mjob_health', 'Mjob_other', 'Mjob_services', 'Mjob_teacher', 'Fjob_at_home', 'Fjob_health', 'Fjob_other', 'Fjob_services', 'Fjob_teacher', 'reason_course', 'reason_home', 'reason_other', 'reason_reputation', 'guardian_father', 'guardian_mother', 'guardian_other', 'traveltime', 'studytime', 'failures', 'schoolsup', 'famsup', 'paid', 'activities', 'nursery', 'higher', 'internet', 'romantic', 'famrel', 'freetime', 'goout', 'Dalc', 'Walc', 'health', 'absences']\n"
     ]
    }
   ],
   "source": [
    "# Preprocess feature columns\n",
    "def preprocess_features(X):\n",
    "    outX = pd.DataFrame(index=X.index)  # output dataframe, initially empty\n",
    "\n",
    "    # Check each column\n",
    "    for col, col_data in X.iteritems():\n",
    "        # If data type is non-numeric, try to replace all yes/no values with 1/0\n",
    "        if col_data.dtype == object:\n",
    "            col_data = col_data.replace(['yes', 'no'], [1, 0])\n",
    "        # Note: This should change the data type for yes/no columns to int\n",
    "\n",
    "        # If still non-numeric, convert to one or more dummy variables\n",
    "        if col_data.dtype == object:\n",
    "            col_data = pd.get_dummies(col_data, prefix=col)  # e.g. 'school' => 'school_GP', 'school_MS'\n",
    "\n",
    "        outX = outX.join(col_data)  # collect column(s) in output dataframe\n",
    "\n",
    "    return outX\n",
    "\n",
    "X_all = preprocess_features(X_all)\n",
    "print \"Processed feature columns ({}):-\\n{}\".format(len(X_all.columns), list(X_all.columns))\n"
   ]
  },
  {
   "cell_type": "code",
   "execution_count": 407,
   "metadata": {
    "collapsed": false
   },
   "outputs": [],
   "source": [
    "#y_all = preprocess_features(y_all)\n",
    "#print y_all #= y_all.replace(['yes', 'no'], [1, 0])\n",
    "#print \"Processed feature columns ({}):-\\n{}\".format(len(y_all.columns), list(y_all.columns))"
   ]
  },
  {
   "cell_type": "markdown",
   "metadata": {},
   "source": [
    "### Split data into training and test sets\n",
    "\n",
    "So far, we have converted all _categorical_ features into numeric values. In this next step, we split the data (both features and corresponding labels) into training and test sets."
   ]
  },
  {
   "cell_type": "code",
   "execution_count": null,
   "metadata": {
    "collapsed": false
   },
   "outputs": [],
   "source": []
  },
  {
   "cell_type": "code",
   "execution_count": 408,
   "metadata": {
    "collapsed": false
   },
   "outputs": [
    {
     "name": "stdout",
     "output_type": "stream",
     "text": [
      "210     no\n",
      "75     yes\n",
      "104    yes\n",
      "374    yes\n",
      "16     yes\n",
      "66     yes\n",
      "211    yes\n",
      "7       no\n",
      "19     yes\n",
      "301    yes\n",
      "350     no\n",
      "365    yes\n",
      "118     no\n",
      "321     no\n",
      "296     no\n",
      "381     no\n",
      "373     no\n",
      "60     yes\n",
      "79      no\n",
      "281    yes\n",
      "245    yes\n",
      "250     no\n",
      "218     no\n",
      "109    yes\n",
      "17     yes\n",
      "165    yes\n",
      "24      no\n",
      "126    yes\n",
      "346    yes\n",
      "176    yes\n",
      "      ... \n",
      "344    yes\n",
      "235    yes\n",
      "252     no\n",
      "21     yes\n",
      "313    yes\n",
      "160     no\n",
      "276     no\n",
      "191     no\n",
      "293    yes\n",
      "343     no\n",
      "257    yes\n",
      "308    yes\n",
      "149    yes\n",
      "130     no\n",
      "151    yes\n",
      "359    yes\n",
      "99      no\n",
      "372    yes\n",
      "87     yes\n",
      "330     no\n",
      "214    yes\n",
      "121    yes\n",
      "394     no\n",
      "20     yes\n",
      "188     no\n",
      "71     yes\n",
      "106     no\n",
      "270     no\n",
      "348    yes\n",
      "102    yes\n",
      "Name: passed, dtype: object\n"
     ]
    },
    {
     "data": {
      "text/plain": [
       "78     yes\n",
       "371    yes\n",
       "248     no\n",
       "55     yes\n",
       "390     no\n",
       "223    yes\n",
       "42     yes\n",
       "234     no\n",
       "316     no\n",
       "116    yes\n",
       "9      yes\n",
       "209     no\n",
       "323    yes\n",
       "393    yes\n",
       "258    yes\n",
       "155     no\n",
       "124     no\n",
       "272    yes\n",
       "324    yes\n",
       "334     no\n",
       "15     yes\n",
       "391    yes\n",
       "167    yes\n",
       "0       no\n",
       "140     no\n",
       "113    yes\n",
       "77     yes\n",
       "33     yes\n",
       "101    yes\n",
       "76     yes\n",
       "      ... \n",
       "182    yes\n",
       "255     no\n",
       "358    yes\n",
       "317     no\n",
       "5      yes\n",
       "45      no\n",
       "84     yes\n",
       "289    yes\n",
       "110    yes\n",
       "364    yes\n",
       "82      no\n",
       "114     no\n",
       "3      yes\n",
       "18      no\n",
       "181    yes\n",
       "194    yes\n",
       "173     no\n",
       "63      no\n",
       "253     no\n",
       "225     no\n",
       "331    yes\n",
       "383     no\n",
       "227    yes\n",
       "342    yes\n",
       "131     no\n",
       "320    yes\n",
       "175     no\n",
       "238    yes\n",
       "368    yes\n",
       "367     no\n",
       "Name: passed, dtype: object"
      ]
     },
     "execution_count": 408,
     "metadata": {},
     "output_type": "execute_result"
    }
   ],
   "source": [
    "# First, decide how many training vs test samples you want\n",
    "num_all = student_data.shape[0]  # same as len(student_data)\n",
    "num_train = 300  # about 75% of the data\n",
    "num_test = num_all - num_train\n",
    "\n",
    "# TODO: Then, select features (X) and corresponding labels (y) for the training and test sets\n",
    "# Note: Shuffle the data or randomly select samples to avoid any bias due to ordering in the dataset\n",
    "\n",
    "from sklearn.cross_validation import train_test_split\n",
    "# Shuffle Dataframe\n",
    "#X_all_shuf = X_all.reindex(np.random.permutation(X_all.index))\n",
    "#Y_all_shuf = y_all.reindex(np.random.permutation(y_all.index))\n",
    "\n",
    "#X_train = X_all_shuf[:num_train]\n",
    "#y_train = Y_all_shuf[:num_train]\n",
    "#X_test = X_all_shuf[num_train+1:num_all]\n",
    "#y_test = Y_all_shuf[num_train+1:num_all]\n",
    "X_train, X_test, y_train, y_test = train_test_split(X_all, y_all, test_size = float(num_test)/num_all, random_state = 42 )\n",
    "print y_train\n",
    "#print \"Training set: {} samples\".format(X_train.shape[0])\n",
    "#print \"Test set: {} samples\".format(X_test.shape[0])\n",
    "# Note: If you need a validation set, extract it from within training data\n",
    "y_test"
   ]
  },
  {
   "cell_type": "markdown",
   "metadata": {},
   "source": [
    "## 4. Training and Evaluating Models\n",
    "Choose 3 supervised learning models that are available in scikit-learn, and appropriate for this problem. For each model:\n",
    "\n",
    "- What are the general applications of this model? What are its strengths and weaknesses?\n",
    "- Given what you know about the data so far, why did you choose this model to apply?\n",
    "- Fit this model to the training data, try to predict labels (for both training and test sets), and measure the F<sub>1</sub> score. Repeat this process with different training set sizes (100, 200, 300), keeping test set constant.\n",
    "\n",
    "Produce a table showing training time, prediction time, F<sub>1</sub> score on training set and F<sub>1</sub> score on test set, for each training set size.\n",
    "\n",
    "Note: You need to produce 3 such tables - one for each model."
   ]
  },
  {
   "cell_type": "code",
   "execution_count": 409,
   "metadata": {
    "collapsed": false
   },
   "outputs": [
    {
     "name": "stdout",
     "output_type": "stream",
     "text": [
      "Training GradientBoostingClassifier...\n",
      "Done!\n",
      "Training time (secs): 0.146\n",
      "GradientBoostingClassifier(init=None, learning_rate=0.1, loss='deviance',\n",
      "              max_depth=3, max_features=None, max_leaf_nodes=None,\n",
      "              min_samples_leaf=1, min_samples_split=2,\n",
      "              min_weight_fraction_leaf=0.0, n_estimators=100,\n",
      "              presort='auto', random_state=None, subsample=1.0, verbose=0,\n",
      "              warm_start=False)\n"
     ]
    }
   ],
   "source": [
    "# Train a model\n",
    "import time\n",
    "\n",
    "def train_classifier(clf, X_train, y_train):\n",
    "    print \"Training {}...\".format(clf.__class__.__name__)\n",
    "    start = time.time()\n",
    "    clf.fit(X_train, y_train)\n",
    "    end = time.time()\n",
    "    print \"Done!\\nTraining time (secs): {:.3f}\".format(end - start)\n",
    "\n",
    "# TODO: Choose a model, import it and instantiate an object\n",
    "from sklearn.svm import SVC\n",
    "#clf = SVC()\n",
    "#from sklearn.neural_network import MLPClassifier\n",
    "from sklearn.linear_model import LinearRegression\n",
    "#clf = LinearRegression()# MLPClassifier(algorithm='l-bfgs', alpha=1e-5, hidden_layer_sizes=(5, 2), random_state=1) #SVC()\n",
    "from sklearn.naive_bayes import GaussianNB\n",
    "#clf = GaussianNB()\n",
    "from sklearn.ensemble import GradientBoostingClassifier\n",
    "clf = GradientBoostingClassifier()\n",
    "\n",
    "# Fit model to training data\n",
    "train_classifier(clf, X_train, y_train)  # note: using entire training set here\n",
    "print clf  # you can inspect the learned model by printing it"
   ]
  },
  {
   "cell_type": "code",
   "execution_count": 410,
   "metadata": {
    "collapsed": false
   },
   "outputs": [
    {
     "name": "stdout",
     "output_type": "stream",
     "text": [
      "Predicting labels using GradientBoostingClassifier...\n",
      "Done!\n",
      "Prediction time (secs): 0.002\n",
      "F1 score for training set: 0.973871733967\n"
     ]
    }
   ],
   "source": [
    "# Predict on training set and compute F1 score\n",
    "from sklearn.metrics import f1_score\n",
    "\n",
    "def predict_labels(clf, features, target):\n",
    "    print \"Predicting labels using {}...\".format(clf.__class__.__name__)\n",
    "    start = time.time()\n",
    "    y_pred = clf.predict(features)\n",
    "    end = time.time()\n",
    "    print \"Done!\\nPrediction time (secs): {:.3f}\".format(end - start)\n",
    "    return f1_score(target.values, y_pred, pos_label='yes')\n",
    "    #return f1_score(target.values, y_pred)\n",
    "\n",
    "train_f1_score = predict_labels(clf, X_train, y_train)\n",
    "print \"F1 score for training set: {}\".format(train_f1_score)\n"
   ]
  },
  {
   "cell_type": "code",
   "execution_count": 411,
   "metadata": {
    "collapsed": false
   },
   "outputs": [
    {
     "name": "stdout",
     "output_type": "stream",
     "text": [
      "Predicting labels using GradientBoostingClassifier...\n",
      "Done!\n",
      "Prediction time (secs): 0.001\n",
      "F1 score for test set: 0.779411764706\n"
     ]
    }
   ],
   "source": [
    "# Predict on test data\n",
    "print \"F1 score for test set: {}\".format(predict_labels(clf, X_test, y_test))"
   ]
  },
  {
   "cell_type": "code",
   "execution_count": 412,
   "metadata": {
    "collapsed": false
   },
   "outputs": [
    {
     "data": {
      "text/plain": [
       "0.24050632911392406"
      ]
     },
     "execution_count": 412,
     "metadata": {},
     "output_type": "execute_result"
    }
   ],
   "source": [
    "float(num_test)/num_all"
   ]
  },
  {
   "cell_type": "code",
   "execution_count": 413,
   "metadata": {
    "collapsed": false
   },
   "outputs": [],
   "source": [
    "# Train and predict using different training set sizes\n",
    "def train_predict(clf, X_train, y_train, X_test, y_test):\n",
    "    print \"------------------------------------------\"\n",
    "    print \"Training set size: {}\".format(len(X_train))\n",
    "    train_classifier(clf, X_train, y_train)\n",
    "    print \"F1 score for training set: {}\".format(predict_labels(clf, X_train, y_train))\n",
    "    print \"F1 score for test set: {}\".format(predict_labels(clf, X_test, y_test))\n",
    "\n",
    "# TODO: Run the helper function above for desired subsets of training data\n",
    "# Note: Keep the test set constant"
   ]
  },
  {
   "cell_type": "code",
   "execution_count": 414,
   "metadata": {
    "collapsed": false
   },
   "outputs": [],
   "source": [
    "# TODO: Train and predict using two other models"
   ]
  },
  {
   "cell_type": "markdown",
   "metadata": {},
   "source": [
    "## 5. Choosing the Best Model\n",
    "\n",
    "- Based on the experiments you performed earlier, in 1-2 paragraphs explain to the board of supervisors what single model you chose as the best model. Which model is generally the most appropriate based on the available data, limited resources, cost, and performance?\n",
    "- In 1-2 paragraphs explain to the board of supervisors in layman's terms how the final model chosen is supposed to work (for example if you chose a Decision Tree or Support Vector Machine, how does it make a prediction).\n",
    "- Fine-tune the model. Use Gridsearch with at least one important parameter tuned and with at least 3 settings. Use the entire training set for this.\n",
    "- What is the model's final F<sub>1</sub> score?"
   ]
  },
  {
   "cell_type": "code",
   "execution_count": 415,
   "metadata": {
    "collapsed": true
   },
   "outputs": [],
   "source": [
    "# TODO: Fine-tune your model and report the best F1 score"
   ]
  },
  {
   "cell_type": "code",
   "execution_count": 416,
   "metadata": {
    "collapsed": true
   },
   "outputs": [],
   "source": [
    "from sklearn import grid_search\n",
    "from sklearn.metrics import make_scorer"
   ]
  },
  {
   "cell_type": "code",
   "execution_count": 417,
   "metadata": {
    "collapsed": false
   },
   "outputs": [
    {
     "name": "stdout",
     "output_type": "stream",
     "text": [
      "Training GridSearchCV...\n",
      "Fitting 3 folds for each of 10 candidates, totalling 30 fits\n",
      "[CV] kernel=linear, C=1 ..............................................\n",
      "[CV] ..................... kernel=linear, C=1, score=0.816327 -   0.0s\n",
      "[CV] kernel=linear, C=1 ..............................................\n",
      "[CV] ..................... kernel=linear, C=1, score=0.746479 -   0.0s\n",
      "[CV] kernel=linear, C=1 ..............................................\n",
      "[CV] ..................... kernel=linear, C=1, score=0.769231 -   0.0s\n",
      "[CV] kernel=rbf, C=1 .................................................\n",
      "[CV] ........................ kernel=rbf, C=1, score=0.829268 -   0.0s\n",
      "[CV] kernel=rbf, C=1 .................................................\n",
      "[CV] ........................ kernel=rbf, C=1, score=0.834356 -   0.0s\n",
      "[CV] kernel=rbf, C=1 .................................................\n",
      "[CV] ........................ kernel=rbf, C=1, score=0.787097 -   0.0s\n",
      "[CV] kernel=linear, C=2 ..............................................\n",
      "[CV] ..................... kernel=linear, C=2, score=0.821918 -   0.0s\n",
      "[CV] kernel=linear, C=2 ..............................................\n",
      "[CV] ..................... kernel=linear, C=2, score=0.755245 -   0.0s\n",
      "[CV] kernel=linear, C=2 ..............................................\n"
     ]
    },
    {
     "name": "stderr",
     "output_type": "stream",
     "text": [
      "[Parallel(n_jobs=1)]: Done   1 tasks       | elapsed:    0.0s\n",
      "[Parallel(n_jobs=1)]: Done   4 tasks       | elapsed:    0.1s\n",
      "[Parallel(n_jobs=1)]: Done   7 tasks       | elapsed:    0.1s\n"
     ]
    },
    {
     "name": "stdout",
     "output_type": "stream",
     "text": [
      "[CV] ..................... kernel=linear, C=2, score=0.760563 -   0.0s\n",
      "[CV] kernel=rbf, C=2 .................................................\n",
      "[CV] ........................ kernel=rbf, C=2, score=0.815287 -   0.0s\n",
      "[CV] kernel=rbf, C=2 .................................................\n",
      "[CV] ........................ kernel=rbf, C=2, score=0.828025 -   0.0s\n",
      "[CV] kernel=rbf, C=2 .................................................\n",
      "[CV] ........................ kernel=rbf, C=2, score=0.792208 -   0.0s\n",
      "[CV] kernel=linear, C=5 ..............................................\n",
      "[CV] ..................... kernel=linear, C=5, score=0.805556 -   0.1s\n",
      "[CV] kernel=linear, C=5 ..............................................\n"
     ]
    },
    {
     "name": "stderr",
     "output_type": "stream",
     "text": [
      "[Parallel(n_jobs=1)]: Done  12 tasks       | elapsed:    0.2s\n"
     ]
    },
    {
     "name": "stdout",
     "output_type": "stream",
     "text": [
      "[CV] ..................... kernel=linear, C=5, score=0.769231 -   0.2s\n",
      "[CV] kernel=linear, C=5 ..............................................\n",
      "[CV] ..................... kernel=linear, C=5, score=0.751773 -   0.1s\n",
      "[CV] kernel=rbf, C=5 .................................................\n",
      "[CV] ........................ kernel=rbf, C=5, score=0.783784 -   0.0s\n",
      "[CV] kernel=rbf, C=5 .................................................\n",
      "[CV] ........................ kernel=rbf, C=5, score=0.775510 -   0.0s\n",
      "[CV] kernel=rbf, C=5 .................................................\n",
      "[CV] ........................ kernel=rbf, C=5, score=0.763889 -   0.0s\n",
      "[CV] kernel=linear, C=7 ..............................................\n"
     ]
    },
    {
     "name": "stderr",
     "output_type": "stream",
     "text": [
      "[Parallel(n_jobs=1)]: Done  17 tasks       | elapsed:    0.6s\n"
     ]
    },
    {
     "name": "stdout",
     "output_type": "stream",
     "text": [
      "[CV] ..................... kernel=linear, C=7, score=0.805556 -   0.1s\n",
      "[CV] kernel=linear, C=7 ..............................................\n",
      "[CV] ..................... kernel=linear, C=7, score=0.774648 -   0.3s\n",
      "[CV] kernel=linear, C=7 ..............................................\n",
      "[CV] ..................... kernel=linear, C=7, score=0.742857 -   0.1s\n",
      "[CV] kernel=rbf, C=7 .................................................\n",
      "[CV] ........................ kernel=rbf, C=7, score=0.767123 -   0.0s\n",
      "[CV] kernel=rbf, C=7 .................................................\n",
      "[CV] ........................ kernel=rbf, C=7, score=0.780822 -   0.0s\n",
      "[CV] kernel=rbf, C=7 .................................................\n",
      "[CV] ........................ kernel=rbf, C=7, score=0.777778 -   0.0s\n",
      "[CV] kernel=linear, C=10 .............................................\n"
     ]
    },
    {
     "name": "stderr",
     "output_type": "stream",
     "text": [
      "[Parallel(n_jobs=1)]: Done  24 tasks       | elapsed:    1.1s\n"
     ]
    },
    {
     "name": "stdout",
     "output_type": "stream",
     "text": [
      "[CV] .................... kernel=linear, C=10, score=0.805556 -   0.1s\n",
      "[CV] kernel=linear, C=10 .............................................\n",
      "[CV] .................... kernel=linear, C=10, score=0.780142 -   0.4s\n",
      "[CV] kernel=linear, C=10 .............................................\n",
      "[CV] .................... kernel=linear, C=10, score=0.724638 -   0.3s\n",
      "[CV] kernel=rbf, C=10 ................................................\n",
      "[CV] ....................... kernel=rbf, C=10, score=0.750000 -   0.0s\n",
      "[CV] kernel=rbf, C=10 ................................................\n",
      "[CV] ....................... kernel=rbf, C=10, score=0.763889 -   0.0s\n",
      "[CV] kernel=rbf, C=10 ................................................\n",
      "[CV] ....................... kernel=rbf, C=10, score=0.774648 -   0.0s\n",
      "Done!\n",
      "Training time (secs): 1.908\n"
     ]
    },
    {
     "name": "stderr",
     "output_type": "stream",
     "text": [
      "[Parallel(n_jobs=1)]: Done  30 out of  30 | elapsed:    1.9s finished\n"
     ]
    }
   ],
   "source": [
    "parameters = {'max_depth':(1,2,3,4,5,6,7,8,9,10)}\n",
    "parameters = {'kernel':('linear', 'rbf'), 'C':[1, 2, 5, 7, 10]}\n",
    "\n",
    "f1_scorer=make_scorer(f1_score, pos_label=\"yes\")\n",
    "reg = grid_search.GridSearchCV( SVC(), parameters, verbose=10, scoring = f1_scorer)\n",
    "train_classifier(reg, X_train, y_train)\n"
   ]
  },
  {
   "cell_type": "code",
   "execution_count": 425,
   "metadata": {
    "collapsed": false
   },
   "outputs": [
    {
     "name": "stdout",
     "output_type": "stream",
     "text": [
      "Predicting labels using GradientBoostingClassifier...\n",
      "Done!\n",
      "Prediction time (secs): 0.002\n",
      "F1 score for training set: 0.973871733967\n"
     ]
    }
   ],
   "source": [
    "train_f1_score = predict_labels(clf, X_train, y_train)\n",
    "print \"F1 score for training set: {}\".format(train_f1_score)\n",
    "\n"
   ]
  },
  {
   "cell_type": "code",
   "execution_count": 426,
   "metadata": {
    "collapsed": false
   },
   "outputs": [
    {
     "name": "stdout",
     "output_type": "stream",
     "text": [
      "Predicting labels using GridSearchCV...\n",
      "Done!\n",
      "Prediction time (secs): 0.007\n",
      "F1 score for training set: 0.876068376068\n"
     ]
    }
   ],
   "source": [
    "\n",
    "train_f1_score = predict_labels(reg, X_train, y_train)\n",
    "print \"F1 score for training set: {}\".format(train_f1_score)"
   ]
  },
  {
   "cell_type": "code",
   "execution_count": 424,
   "metadata": {
    "collapsed": false
   },
   "outputs": [
    {
     "data": {
      "text/plain": [
       "SVC(C=1, cache_size=200, class_weight=None, coef0=0.0,\n",
       "  decision_function_shape=None, degree=3, gamma='auto', kernel='rbf',\n",
       "  max_iter=-1, probability=False, random_state=None, shrinking=True,\n",
       "  tol=0.001, verbose=False)"
      ]
     },
     "execution_count": 424,
     "metadata": {},
     "output_type": "execute_result"
    }
   ],
   "source": [
    "reg.best_estimator_"
   ]
  },
  {
   "cell_type": "code",
   "execution_count": 421,
   "metadata": {
    "collapsed": false
   },
   "outputs": [
    {
     "data": {
      "text/plain": [
       "{'C': 1, 'kernel': 'rbf'}"
      ]
     },
     "execution_count": 421,
     "metadata": {},
     "output_type": "execute_result"
    }
   ],
   "source": [
    "reg.best_params_"
   ]
  },
  {
   "cell_type": "code",
   "execution_count": 427,
   "metadata": {
    "collapsed": false
   },
   "outputs": [
    {
     "name": "stdout",
     "output_type": "stream",
     "text": [
      "Predicting labels using GridSearchCV...\n",
      "Done!\n",
      "Prediction time (secs): 0.003\n",
      "F1 score for training set: 0.783783783784\n"
     ]
    }
   ],
   "source": [
    "\n",
    "train_f1_score = predict_labels(reg, X_test, y_test)\n",
    "print \"F1 score for training set: {}\".format(train_f1_score)"
   ]
  },
  {
   "cell_type": "code",
   "execution_count": null,
   "metadata": {
    "collapsed": true
   },
   "outputs": [],
   "source": []
  }
 ],
 "metadata": {
  "kernelspec": {
   "display_name": "Python 2",
   "language": "python",
   "name": "python2"
  },
  "language_info": {
   "codemirror_mode": {
    "name": "ipython",
    "version": 2
   },
   "file_extension": ".py",
   "mimetype": "text/x-python",
   "name": "python",
   "nbconvert_exporter": "python",
   "pygments_lexer": "ipython2",
   "version": "2.7.11"
  }
 },
 "nbformat": 4,
 "nbformat_minor": 0
}
